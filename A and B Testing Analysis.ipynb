{
 "cells": [
  {
   "cell_type": "markdown",
   "id": "2ec98960",
   "metadata": {},
   "source": [
    "# A/B Testing Analysis."
   ]
  },
  {
   "cell_type": "code",
   "execution_count": 1,
   "id": "98072bab",
   "metadata": {},
   "outputs": [
    {
     "name": "stderr",
     "output_type": "stream",
     "text": [
      "C:\\Users\\Rohit\\anaconda3\\lib\\site-packages\\scipy\\__init__.py:155: UserWarning: A NumPy version >=1.18.5 and <1.25.0 is required for this version of SciPy (detected version 1.26.2\n",
      "  warnings.warn(f\"A NumPy version >={np_minversion} and <{np_maxversion}\"\n"
     ]
    }
   ],
   "source": [
    "import numpy as np\n",
    "from scipy import stats"
   ]
  },
  {
   "cell_type": "code",
   "execution_count": 2,
   "id": "5b47edbf",
   "metadata": {},
   "outputs": [],
   "source": [
    "control_group = np.array([5, 7, 8, 6, 9, 10, 6, 7, 8, 6])\n",
    "experimental_group = np.array([6, 8, 7, 7, 8, 9, 7, 8, 9, 8])"
   ]
  },
  {
   "cell_type": "code",
   "execution_count": 3,
   "id": "1395c2a0",
   "metadata": {},
   "outputs": [],
   "source": [
    "t_statistic, p_value = stats.ttest_ind(control_group, experimental_group)"
   ]
  },
  {
   "cell_type": "markdown",
   "id": "0e2c39c1",
   "metadata": {},
   "source": [
    "**Print the result.**"
   ]
  },
  {
   "cell_type": "code",
   "execution_count": 4,
   "id": "5ead5df6",
   "metadata": {},
   "outputs": [
    {
     "name": "stdout",
     "output_type": "stream",
     "text": [
      "T-statistic: -0.8703882797784891\n",
      "P-value: 0.3955479499439908\n"
     ]
    }
   ],
   "source": [
    "print(\"T-statistic:\", t_statistic)\n",
    "print(\"P-value:\", p_value)"
   ]
  },
  {
   "cell_type": "markdown",
   "id": "81e6f07f",
   "metadata": {},
   "source": [
    "**Interpret the results.**"
   ]
  },
  {
   "cell_type": "code",
   "execution_count": 5,
   "id": "48bfa9ab",
   "metadata": {},
   "outputs": [
    {
     "name": "stdout",
     "output_type": "stream",
     "text": [
      "The difference in means is not statistically significant.\n"
     ]
    }
   ],
   "source": [
    "if p_value < 0.05:\n",
    "    print(\"The difference in means is statistically significant.\")\n",
    "    if t_statistic > 0:\n",
    "        print(\"The experimental group performed better than the control group.\")\n",
    "    else:\n",
    "        print(\"The control group performed better than the experimental group.\")\n",
    "else:\n",
    "    print(\"The difference in means is not statistically significant.\")"
   ]
  },
  {
   "cell_type": "code",
   "execution_count": null,
   "id": "f3a6c93d",
   "metadata": {},
   "outputs": [],
   "source": []
  }
 ],
 "metadata": {
  "kernelspec": {
   "display_name": "Python 3 (ipykernel)",
   "language": "python",
   "name": "python3"
  },
  "language_info": {
   "codemirror_mode": {
    "name": "ipython",
    "version": 3
   },
   "file_extension": ".py",
   "mimetype": "text/x-python",
   "name": "python",
   "nbconvert_exporter": "python",
   "pygments_lexer": "ipython3",
   "version": "3.9.13"
  }
 },
 "nbformat": 4,
 "nbformat_minor": 5
}
